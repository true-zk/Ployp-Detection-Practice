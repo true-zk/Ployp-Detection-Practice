{
 "cells": [
  {
   "cell_type": "code",
   "execution_count": 1,
   "metadata": {},
   "outputs": [
    {
     "name": "stderr",
     "output_type": "stream",
     "text": [
      "/home/zhongken/miniconda3/envs/yolo8/lib/python3.8/site-packages/tqdm/auto.py:21: TqdmWarning: IProgress not found. Please update jupyter and ipywidgets. See https://ipywidgets.readthedocs.io/en/stable/user_install.html\n",
      "  from .autonotebook import tqdm as notebook_tqdm\n"
     ]
    }
   ],
   "source": [
    "from ultralytics import YOLO\n",
    "import torch\n",
    "torch.cuda.empty_cache()"
   ]
  },
  {
   "cell_type": "markdown",
   "metadata": {},
   "source": [
    "## Train"
   ]
  },
  {
   "cell_type": "markdown",
   "metadata": {},
   "source": [
    "### basic try"
   ]
  },
  {
   "cell_type": "code",
   "execution_count": null,
   "metadata": {},
   "outputs": [],
   "source": [
    "model = YOLO(\"yolov8n.pt\")\n",
    "model.info()\n",
    "results = model.train(data=\"dataset/yolo8/data.yaml\", batch=32, epochs=100, imgsz=640, device=0, verbose=True, plots=True)"
   ]
  },
  {
   "cell_type": "code",
   "execution_count": 2,
   "metadata": {},
   "outputs": [
    {
     "name": "stdout",
     "output_type": "stream",
     "text": [
      "YOLOv8x summary: 365 layers, 68229648 parameters, 0 gradients, 258.5 GFLOPs\n"
     ]
    },
    {
     "name": "stderr",
     "output_type": "stream",
     "text": [
      "[W NNPACK.cpp:51] Could not initialize NNPACK! Reason: Unsupported hardware.\n"
     ]
    },
    {
     "data": {
      "text/plain": [
       "(365, 68229648, 0, 258.5472512)"
      ]
     },
     "execution_count": 2,
     "metadata": {},
     "output_type": "execute_result"
    }
   ],
   "source": [
    "model = YOLO(\"yolov8x.pt\")\n",
    "model.info()\n",
    "results = model.train(data=\"dataset/yolo8/data.yaml\", batch=12, epochs=100, imgsz=640, device=0, verbose=True, plots=True, box=10.0)"
   ]
  },
  {
   "cell_type": "markdown",
   "metadata": {},
   "source": [
    "### carefully fine-tune\n"
   ]
  },
  {
   "cell_type": "code",
   "execution_count": null,
   "metadata": {},
   "outputs": [],
   "source": [
    "model = YOLO(\"yolov8n.pt\")\n",
    "model.info()\n",
    "results = model.train(data=\"dataset/yolo8/data.yaml\", \n",
    "                      batch=20, \n",
    "                      epochs=100, \n",
    "                      imgsz=640, \n",
    "                      device=0, \n",
    "                      verbose=True, \n",
    "                      plots=True,\n",
    "                      lr0=0.01, # initial learning rate\n",
    "                      lrf=0.001, # final learning rate = lrf * lr0\n",
    "                      weight_decay=0.0005, # weight decay\n",
    "                      warmup_epochs=3, # warmup epochs\n",
    "                      box=7.5, # Weight of the box loss component in the loss function\n",
    "                      cls=0.5, # Weight of the class loss component in the loss function\n",
    "                      \n",
    "                      hsv_h=0.015, # Hue, while polyp imgs are red, dont change large\n",
    "                      hsv_v=0.4, # Value, while polyp imgs have diff brightness, set a relative high value\n",
    "                      degrees=0, # rotation degrees range\n",
    "                      translate=0.1, # img translation range\n",
    "                      scale=0.5, # scale range\n",
    "                      flipud=0, # flip up-down probability, polyp can be up-down symmetrical\n",
    "                      fliplr=0.5, # flip left-right probability, polyp can be left-right symmetrical\n",
    "                      mixup=0, # mixup probability\n",
    "                      )"
   ]
  },
  {
   "cell_type": "markdown",
   "metadata": {},
   "source": [
    "## Val"
   ]
  },
  {
   "cell_type": "code",
   "execution_count": 2,
   "metadata": {},
   "outputs": [],
   "source": [
    "# val yolov8n\n",
    "import os\n",
    "save_path = \"runs/detect/\""
   ]
  },
  {
   "cell_type": "code",
   "execution_count": 3,
   "metadata": {},
   "outputs": [
    {
     "name": "stdout",
     "output_type": "stream",
     "text": [
      "Ultralytics YOLOv8.2.28 🚀 Python-3.8.19 torch-1.12.0 CUDA:0 (GeForce RTX 2080 Ti, 11019MiB)\n",
      "Model summary (fused): 168 layers, 3005843 parameters, 0 gradients, 8.1 GFLOPs\n"
     ]
    },
    {
     "name": "stderr",
     "output_type": "stream",
     "text": [
      "\u001b[34m\u001b[1mval: \u001b[0mScanning /home/zhongken/ai_cross_application/fn/dataset/yolo8/val/labels.cache... 80 images, 0 backgrounds, 0 corrupt: 100%|██████████| 80/80 [00:00<?, ?it/s]\n",
      "                 Class     Images  Instances      Box(P          R      mAP50  mAP50-95): 100%|██████████| 5/5 [00:01<00:00,  2.85it/s]\n"
     ]
    },
    {
     "name": "stdout",
     "output_type": "stream",
     "text": [
      "                   all         80         84      0.943      0.786      0.876      0.749\n",
      "Speed: 1.4ms preprocess, 1.9ms inference, 0.0ms loss, 0.7ms postprocess per image\n",
      "Results saved to \u001b[1mruns/detect/val6\u001b[0m\n"
     ]
    },
    {
     "data": {
      "text/plain": [
       "0.7488514877862466"
      ]
     },
     "execution_count": 3,
     "metadata": {},
     "output_type": "execute_result"
    }
   ],
   "source": [
    "# n 16\n",
    "model = YOLO(os.path.join(save_path, \"train\", \"weights\", \"best.pt\"))\n",
    "metrics = model.val(conf=0.65)\n",
    "metrics.box.map  # map50-95"
   ]
  },
  {
   "cell_type": "code",
   "execution_count": 4,
   "metadata": {},
   "outputs": [
    {
     "name": "stdout",
     "output_type": "stream",
     "text": [
      "Ultralytics YOLOv8.2.28 🚀 Python-3.8.19 torch-1.12.0 CUDA:0 (GeForce RTX 2080 Ti, 11019MiB)\n",
      "Model summary (fused): 168 layers, 3005843 parameters, 0 gradients, 8.1 GFLOPs\n"
     ]
    },
    {
     "name": "stderr",
     "output_type": "stream",
     "text": [
      "\u001b[34m\u001b[1mval: \u001b[0mScanning /home/zhongken/ai_cross_application/fn/dataset/yolo8/val/labels.cache... 80 images, 0 backgrounds, 0 corrupt: 100%|██████████| 80/80 [00:00<?, ?it/s]\n",
      "                 Class     Images  Instances      Box(P          R      mAP50  mAP50-95): 100%|██████████| 5/5 [00:01<00:00,  2.73it/s]\n"
     ]
    },
    {
     "name": "stdout",
     "output_type": "stream",
     "text": [
      "                   all         80         84       0.91      0.726      0.843      0.728\n",
      "Speed: 1.2ms preprocess, 1.8ms inference, 0.0ms loss, 1.3ms postprocess per image\n",
      "Results saved to \u001b[1mruns/detect/val7\u001b[0m\n"
     ]
    },
    {
     "data": {
      "text/plain": [
       "0.7282457433217847"
      ]
     },
     "execution_count": 4,
     "metadata": {},
     "output_type": "execute_result"
    }
   ],
   "source": [
    "# n 32\n",
    "model = YOLO(os.path.join(save_path, \"train2\", \"weights\", \"best.pt\"))\n",
    "metrics = model.val(conf=0.65)\n",
    "metrics.box.map  # map50-95"
   ]
  },
  {
   "cell_type": "code",
   "execution_count": 5,
   "metadata": {},
   "outputs": [
    {
     "name": "stdout",
     "output_type": "stream",
     "text": [
      "Ultralytics YOLOv8.2.28 🚀 Python-3.8.19 torch-1.12.0 CUDA:0 (GeForce RTX 2080 Ti, 11019MiB)\n",
      "Model summary (fused): 268 layers, 68124531 parameters, 0 gradients, 257.4 GFLOPs\n"
     ]
    },
    {
     "name": "stderr",
     "output_type": "stream",
     "text": [
      "\u001b[34m\u001b[1mval: \u001b[0mScanning /home/zhongken/ai_cross_application/fn/dataset/yolo8/val/labels.cache... 80 images, 0 backgrounds, 0 corrupt: 100%|██████████| 80/80 [00:00<?, ?it/s]\n",
      "                 Class     Images  Instances      Box(P          R      mAP50  mAP50-95): 100%|██████████| 5/5 [00:03<00:00,  1.55it/s]\n"
     ]
    },
    {
     "name": "stdout",
     "output_type": "stream",
     "text": [
      "                   all         80         84      0.939      0.738      0.853      0.747\n",
      "Speed: 1.3ms preprocess, 21.1ms inference, 0.0ms loss, 1.0ms postprocess per image\n",
      "Results saved to \u001b[1mruns/detect/val8\u001b[0m\n"
     ]
    },
    {
     "data": {
      "text/plain": [
       "0.7474271211632217"
      ]
     },
     "execution_count": 5,
     "metadata": {},
     "output_type": "execute_result"
    }
   ],
   "source": [
    "# x 8\n",
    "model = YOLO(os.path.join(save_path, \"train3\", \"weights\", \"best.pt\"))\n",
    "metrics = model.val(conf=0.65)\n",
    "metrics.box.map  # map50-95"
   ]
  }
 ],
 "metadata": {
  "kernelspec": {
   "display_name": "yolo8",
   "language": "python",
   "name": "python3"
  },
  "language_info": {
   "codemirror_mode": {
    "name": "ipython",
    "version": 3
   },
   "file_extension": ".py",
   "mimetype": "text/x-python",
   "name": "python",
   "nbconvert_exporter": "python",
   "pygments_lexer": "ipython3",
   "version": "3.8.19"
  }
 },
 "nbformat": 4,
 "nbformat_minor": 2
}
